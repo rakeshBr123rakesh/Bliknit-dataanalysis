{
 "cells": [
  {
   "cell_type": "markdown",
   "id": "f9659974-cb8c-47a4-af8e-6ad709d0ae3e",
   "metadata": {},
   "source": [
    "## **DATA ANALYSIS PYTHON PROJECT - BLINKIT ANALYSIS**"
   ]
  },
  {
   "cell_type": "markdown",
   "id": "a123468b-d0b6-4e5d-963e-0744b27e9fb5",
   "metadata": {},
   "source": [
    "### IMPORT LIBRARIES"
   ]
  },
  {
   "cell_type": "code",
   "execution_count": 1,
   "id": "6a2c47f5-3f28-4684-b239-769122a5a856",
   "metadata": {},
   "outputs": [],
   "source": [
    "import pandas as pd\n",
    "import numpy as np\n",
    "import matplotlib.pyplot as plt\n",
    "import seaborn as sns"
   ]
  },
  {
   "cell_type": "code",
   "execution_count": 2,
   "id": "4b230504-5b86-4681-93fe-1ba5c076f526",
   "metadata": {},
   "outputs": [],
   "source": [
    "# import raw data \n",
    "\n",
    "df=pd.read_csv(\"Blinkit_data.csv\")"
   ]
  },
  {
   "cell_type": "code",
   "execution_count": 3,
   "id": "3f71aa76-3047-4fc1-a5bd-6a7ea06fe47b",
   "metadata": {},
   "outputs": [
    {
     "data": {
      "text/html": [
       "<div>\n",
       "<style scoped>\n",
       "    .dataframe tbody tr th:only-of-type {\n",
       "        vertical-align: middle;\n",
       "    }\n",
       "\n",
       "    .dataframe tbody tr th {\n",
       "        vertical-align: top;\n",
       "    }\n",
       "\n",
       "    .dataframe thead th {\n",
       "        text-align: right;\n",
       "    }\n",
       "</style>\n",
       "<table border=\"1\" class=\"dataframe\">\n",
       "  <thead>\n",
       "    <tr style=\"text-align: right;\">\n",
       "      <th></th>\n",
       "      <th>ItemFatContent</th>\n",
       "      <th>ItemIdentifier</th>\n",
       "      <th>ItemType</th>\n",
       "      <th>OutletEstablishmentYear</th>\n",
       "      <th>OutletIdentifier</th>\n",
       "      <th>OutletLocationType</th>\n",
       "      <th>OutletSize</th>\n",
       "      <th>OutletType</th>\n",
       "      <th>ItemVisibility</th>\n",
       "      <th>ItemWeight</th>\n",
       "      <th>Sales</th>\n",
       "      <th>Rating</th>\n",
       "    </tr>\n",
       "  </thead>\n",
       "  <tbody>\n",
       "    <tr>\n",
       "      <th>0</th>\n",
       "      <td>Regular</td>\n",
       "      <td>FDX32</td>\n",
       "      <td>Fruits and Vegetables</td>\n",
       "      <td>2012</td>\n",
       "      <td>OUT049</td>\n",
       "      <td>Tier 1</td>\n",
       "      <td>Medium</td>\n",
       "      <td>Supermarket Type1</td>\n",
       "      <td>0.100014</td>\n",
       "      <td>15.10</td>\n",
       "      <td>145.4786</td>\n",
       "      <td>5.0</td>\n",
       "    </tr>\n",
       "    <tr>\n",
       "      <th>1</th>\n",
       "      <td>Low Fat</td>\n",
       "      <td>NCB42</td>\n",
       "      <td>Health and Hygiene</td>\n",
       "      <td>2022</td>\n",
       "      <td>OUT018</td>\n",
       "      <td>Tier 3</td>\n",
       "      <td>Medium</td>\n",
       "      <td>Supermarket Type2</td>\n",
       "      <td>0.008596</td>\n",
       "      <td>11.80</td>\n",
       "      <td>115.3492</td>\n",
       "      <td>5.0</td>\n",
       "    </tr>\n",
       "    <tr>\n",
       "      <th>2</th>\n",
       "      <td>Regular</td>\n",
       "      <td>FDR28</td>\n",
       "      <td>Frozen Foods</td>\n",
       "      <td>2016</td>\n",
       "      <td>OUT046</td>\n",
       "      <td>Tier 1</td>\n",
       "      <td>Small</td>\n",
       "      <td>Supermarket Type1</td>\n",
       "      <td>0.025896</td>\n",
       "      <td>13.85</td>\n",
       "      <td>165.0210</td>\n",
       "      <td>5.0</td>\n",
       "    </tr>\n",
       "    <tr>\n",
       "      <th>3</th>\n",
       "      <td>Regular</td>\n",
       "      <td>FDL50</td>\n",
       "      <td>Canned</td>\n",
       "      <td>2014</td>\n",
       "      <td>OUT013</td>\n",
       "      <td>Tier 3</td>\n",
       "      <td>High</td>\n",
       "      <td>Supermarket Type1</td>\n",
       "      <td>0.042278</td>\n",
       "      <td>12.15</td>\n",
       "      <td>126.5046</td>\n",
       "      <td>5.0</td>\n",
       "    </tr>\n",
       "    <tr>\n",
       "      <th>4</th>\n",
       "      <td>Low Fat</td>\n",
       "      <td>DRI25</td>\n",
       "      <td>Soft Drinks</td>\n",
       "      <td>2015</td>\n",
       "      <td>OUT045</td>\n",
       "      <td>Tier 2</td>\n",
       "      <td>Small</td>\n",
       "      <td>Supermarket Type1</td>\n",
       "      <td>0.033970</td>\n",
       "      <td>19.60</td>\n",
       "      <td>55.1614</td>\n",
       "      <td>5.0</td>\n",
       "    </tr>\n",
       "    <tr>\n",
       "      <th>...</th>\n",
       "      <td>...</td>\n",
       "      <td>...</td>\n",
       "      <td>...</td>\n",
       "      <td>...</td>\n",
       "      <td>...</td>\n",
       "      <td>...</td>\n",
       "      <td>...</td>\n",
       "      <td>...</td>\n",
       "      <td>...</td>\n",
       "      <td>...</td>\n",
       "      <td>...</td>\n",
       "      <td>...</td>\n",
       "    </tr>\n",
       "    <tr>\n",
       "      <th>8518</th>\n",
       "      <td>low fat</td>\n",
       "      <td>NCT53</td>\n",
       "      <td>Health and Hygiene</td>\n",
       "      <td>2018</td>\n",
       "      <td>OUT027</td>\n",
       "      <td>Tier 3</td>\n",
       "      <td>Medium</td>\n",
       "      <td>Supermarket Type3</td>\n",
       "      <td>0.000000</td>\n",
       "      <td>NaN</td>\n",
       "      <td>164.5526</td>\n",
       "      <td>4.0</td>\n",
       "    </tr>\n",
       "    <tr>\n",
       "      <th>8519</th>\n",
       "      <td>low fat</td>\n",
       "      <td>FDN09</td>\n",
       "      <td>Snack Foods</td>\n",
       "      <td>2018</td>\n",
       "      <td>OUT027</td>\n",
       "      <td>Tier 3</td>\n",
       "      <td>Medium</td>\n",
       "      <td>Supermarket Type3</td>\n",
       "      <td>0.034706</td>\n",
       "      <td>NaN</td>\n",
       "      <td>241.6828</td>\n",
       "      <td>4.0</td>\n",
       "    </tr>\n",
       "    <tr>\n",
       "      <th>8520</th>\n",
       "      <td>low fat</td>\n",
       "      <td>DRE13</td>\n",
       "      <td>Soft Drinks</td>\n",
       "      <td>2018</td>\n",
       "      <td>OUT027</td>\n",
       "      <td>Tier 3</td>\n",
       "      <td>Medium</td>\n",
       "      <td>Supermarket Type3</td>\n",
       "      <td>0.027571</td>\n",
       "      <td>NaN</td>\n",
       "      <td>86.6198</td>\n",
       "      <td>4.0</td>\n",
       "    </tr>\n",
       "    <tr>\n",
       "      <th>8521</th>\n",
       "      <td>reg</td>\n",
       "      <td>FDT50</td>\n",
       "      <td>Dairy</td>\n",
       "      <td>2018</td>\n",
       "      <td>OUT027</td>\n",
       "      <td>Tier 3</td>\n",
       "      <td>Medium</td>\n",
       "      <td>Supermarket Type3</td>\n",
       "      <td>0.107715</td>\n",
       "      <td>NaN</td>\n",
       "      <td>97.8752</td>\n",
       "      <td>4.0</td>\n",
       "    </tr>\n",
       "    <tr>\n",
       "      <th>8522</th>\n",
       "      <td>reg</td>\n",
       "      <td>FDM58</td>\n",
       "      <td>Snack Foods</td>\n",
       "      <td>2018</td>\n",
       "      <td>OUT027</td>\n",
       "      <td>Tier 3</td>\n",
       "      <td>Medium</td>\n",
       "      <td>Supermarket Type3</td>\n",
       "      <td>0.000000</td>\n",
       "      <td>NaN</td>\n",
       "      <td>112.2544</td>\n",
       "      <td>4.0</td>\n",
       "    </tr>\n",
       "  </tbody>\n",
       "</table>\n",
       "<p>8523 rows × 12 columns</p>\n",
       "</div>"
      ],
      "text/plain": [
       "     ItemFatContent ItemIdentifier               ItemType  \\\n",
       "0           Regular          FDX32  Fruits and Vegetables   \n",
       "1           Low Fat          NCB42     Health and Hygiene   \n",
       "2           Regular          FDR28           Frozen Foods   \n",
       "3           Regular          FDL50                 Canned   \n",
       "4           Low Fat          DRI25            Soft Drinks   \n",
       "...             ...            ...                    ...   \n",
       "8518        low fat          NCT53     Health and Hygiene   \n",
       "8519        low fat          FDN09            Snack Foods   \n",
       "8520        low fat          DRE13            Soft Drinks   \n",
       "8521            reg          FDT50                  Dairy   \n",
       "8522            reg          FDM58            Snack Foods   \n",
       "\n",
       "      OutletEstablishmentYear OutletIdentifier OutletLocationType OutletSize  \\\n",
       "0                        2012           OUT049             Tier 1     Medium   \n",
       "1                        2022           OUT018             Tier 3     Medium   \n",
       "2                        2016           OUT046             Tier 1      Small   \n",
       "3                        2014           OUT013             Tier 3       High   \n",
       "4                        2015           OUT045             Tier 2      Small   \n",
       "...                       ...              ...                ...        ...   \n",
       "8518                     2018           OUT027             Tier 3     Medium   \n",
       "8519                     2018           OUT027             Tier 3     Medium   \n",
       "8520                     2018           OUT027             Tier 3     Medium   \n",
       "8521                     2018           OUT027             Tier 3     Medium   \n",
       "8522                     2018           OUT027             Tier 3     Medium   \n",
       "\n",
       "             OutletType  ItemVisibility  ItemWeight     Sales  Rating  \n",
       "0     Supermarket Type1        0.100014       15.10  145.4786     5.0  \n",
       "1     Supermarket Type2        0.008596       11.80  115.3492     5.0  \n",
       "2     Supermarket Type1        0.025896       13.85  165.0210     5.0  \n",
       "3     Supermarket Type1        0.042278       12.15  126.5046     5.0  \n",
       "4     Supermarket Type1        0.033970       19.60   55.1614     5.0  \n",
       "...                 ...             ...         ...       ...     ...  \n",
       "8518  Supermarket Type3        0.000000         NaN  164.5526     4.0  \n",
       "8519  Supermarket Type3        0.034706         NaN  241.6828     4.0  \n",
       "8520  Supermarket Type3        0.027571         NaN   86.6198     4.0  \n",
       "8521  Supermarket Type3        0.107715         NaN   97.8752     4.0  \n",
       "8522  Supermarket Type3        0.000000         NaN  112.2544     4.0  \n",
       "\n",
       "[8523 rows x 12 columns]"
      ]
     },
     "execution_count": 3,
     "metadata": {},
     "output_type": "execute_result"
    }
   ],
   "source": [
    "df"
   ]
  },
  {
   "cell_type": "code",
   "execution_count": 4,
   "id": "54eea420-cd95-4b33-b361-7cd58510499d",
   "metadata": {},
   "outputs": [
    {
     "data": {
      "text/html": [
       "<div>\n",
       "<style scoped>\n",
       "    .dataframe tbody tr th:only-of-type {\n",
       "        vertical-align: middle;\n",
       "    }\n",
       "\n",
       "    .dataframe tbody tr th {\n",
       "        vertical-align: top;\n",
       "    }\n",
       "\n",
       "    .dataframe thead th {\n",
       "        text-align: right;\n",
       "    }\n",
       "</style>\n",
       "<table border=\"1\" class=\"dataframe\">\n",
       "  <thead>\n",
       "    <tr style=\"text-align: right;\">\n",
       "      <th></th>\n",
       "      <th>ItemFatContent</th>\n",
       "      <th>ItemIdentifier</th>\n",
       "      <th>ItemType</th>\n",
       "      <th>OutletEstablishmentYear</th>\n",
       "      <th>OutletIdentifier</th>\n",
       "      <th>OutletLocationType</th>\n",
       "      <th>OutletSize</th>\n",
       "      <th>OutletType</th>\n",
       "      <th>ItemVisibility</th>\n",
       "      <th>ItemWeight</th>\n",
       "      <th>Sales</th>\n",
       "      <th>Rating</th>\n",
       "    </tr>\n",
       "  </thead>\n",
       "  <tbody>\n",
       "    <tr>\n",
       "      <th>0</th>\n",
       "      <td>Regular</td>\n",
       "      <td>FDX32</td>\n",
       "      <td>Fruits and Vegetables</td>\n",
       "      <td>2012</td>\n",
       "      <td>OUT049</td>\n",
       "      <td>Tier 1</td>\n",
       "      <td>Medium</td>\n",
       "      <td>Supermarket Type1</td>\n",
       "      <td>0.100014</td>\n",
       "      <td>15.10</td>\n",
       "      <td>145.4786</td>\n",
       "      <td>5.0</td>\n",
       "    </tr>\n",
       "    <tr>\n",
       "      <th>1</th>\n",
       "      <td>Low Fat</td>\n",
       "      <td>NCB42</td>\n",
       "      <td>Health and Hygiene</td>\n",
       "      <td>2022</td>\n",
       "      <td>OUT018</td>\n",
       "      <td>Tier 3</td>\n",
       "      <td>Medium</td>\n",
       "      <td>Supermarket Type2</td>\n",
       "      <td>0.008596</td>\n",
       "      <td>11.80</td>\n",
       "      <td>115.3492</td>\n",
       "      <td>5.0</td>\n",
       "    </tr>\n",
       "    <tr>\n",
       "      <th>2</th>\n",
       "      <td>Regular</td>\n",
       "      <td>FDR28</td>\n",
       "      <td>Frozen Foods</td>\n",
       "      <td>2016</td>\n",
       "      <td>OUT046</td>\n",
       "      <td>Tier 1</td>\n",
       "      <td>Small</td>\n",
       "      <td>Supermarket Type1</td>\n",
       "      <td>0.025896</td>\n",
       "      <td>13.85</td>\n",
       "      <td>165.0210</td>\n",
       "      <td>5.0</td>\n",
       "    </tr>\n",
       "    <tr>\n",
       "      <th>3</th>\n",
       "      <td>Regular</td>\n",
       "      <td>FDL50</td>\n",
       "      <td>Canned</td>\n",
       "      <td>2014</td>\n",
       "      <td>OUT013</td>\n",
       "      <td>Tier 3</td>\n",
       "      <td>High</td>\n",
       "      <td>Supermarket Type1</td>\n",
       "      <td>0.042278</td>\n",
       "      <td>12.15</td>\n",
       "      <td>126.5046</td>\n",
       "      <td>5.0</td>\n",
       "    </tr>\n",
       "  </tbody>\n",
       "</table>\n",
       "</div>"
      ],
      "text/plain": [
       "  ItemFatContent ItemIdentifier               ItemType  \\\n",
       "0        Regular          FDX32  Fruits and Vegetables   \n",
       "1        Low Fat          NCB42     Health and Hygiene   \n",
       "2        Regular          FDR28           Frozen Foods   \n",
       "3        Regular          FDL50                 Canned   \n",
       "\n",
       "   OutletEstablishmentYear OutletIdentifier OutletLocationType OutletSize  \\\n",
       "0                     2012           OUT049             Tier 1     Medium   \n",
       "1                     2022           OUT018             Tier 3     Medium   \n",
       "2                     2016           OUT046             Tier 1      Small   \n",
       "3                     2014           OUT013             Tier 3       High   \n",
       "\n",
       "          OutletType  ItemVisibility  ItemWeight     Sales  Rating  \n",
       "0  Supermarket Type1        0.100014       15.10  145.4786     5.0  \n",
       "1  Supermarket Type2        0.008596       11.80  115.3492     5.0  \n",
       "2  Supermarket Type1        0.025896       13.85  165.0210     5.0  \n",
       "3  Supermarket Type1        0.042278       12.15  126.5046     5.0  "
      ]
     },
     "execution_count": 4,
     "metadata": {},
     "output_type": "execute_result"
    }
   ],
   "source": [
    "df.head(4)"
   ]
  },
  {
   "cell_type": "code",
   "execution_count": 5,
   "id": "8f2c3211-6184-4042-b1de-e6f9f3300b95",
   "metadata": {},
   "outputs": [
    {
     "data": {
      "text/html": [
       "<div>\n",
       "<style scoped>\n",
       "    .dataframe tbody tr th:only-of-type {\n",
       "        vertical-align: middle;\n",
       "    }\n",
       "\n",
       "    .dataframe tbody tr th {\n",
       "        vertical-align: top;\n",
       "    }\n",
       "\n",
       "    .dataframe thead th {\n",
       "        text-align: right;\n",
       "    }\n",
       "</style>\n",
       "<table border=\"1\" class=\"dataframe\">\n",
       "  <thead>\n",
       "    <tr style=\"text-align: right;\">\n",
       "      <th></th>\n",
       "      <th>ItemFatContent</th>\n",
       "      <th>ItemIdentifier</th>\n",
       "      <th>ItemType</th>\n",
       "      <th>OutletEstablishmentYear</th>\n",
       "      <th>OutletIdentifier</th>\n",
       "      <th>OutletLocationType</th>\n",
       "      <th>OutletSize</th>\n",
       "      <th>OutletType</th>\n",
       "      <th>ItemVisibility</th>\n",
       "      <th>ItemWeight</th>\n",
       "      <th>Sales</th>\n",
       "      <th>Rating</th>\n",
       "    </tr>\n",
       "  </thead>\n",
       "  <tbody>\n",
       "    <tr>\n",
       "      <th>8519</th>\n",
       "      <td>low fat</td>\n",
       "      <td>FDN09</td>\n",
       "      <td>Snack Foods</td>\n",
       "      <td>2018</td>\n",
       "      <td>OUT027</td>\n",
       "      <td>Tier 3</td>\n",
       "      <td>Medium</td>\n",
       "      <td>Supermarket Type3</td>\n",
       "      <td>0.034706</td>\n",
       "      <td>NaN</td>\n",
       "      <td>241.6828</td>\n",
       "      <td>4.0</td>\n",
       "    </tr>\n",
       "    <tr>\n",
       "      <th>8520</th>\n",
       "      <td>low fat</td>\n",
       "      <td>DRE13</td>\n",
       "      <td>Soft Drinks</td>\n",
       "      <td>2018</td>\n",
       "      <td>OUT027</td>\n",
       "      <td>Tier 3</td>\n",
       "      <td>Medium</td>\n",
       "      <td>Supermarket Type3</td>\n",
       "      <td>0.027571</td>\n",
       "      <td>NaN</td>\n",
       "      <td>86.6198</td>\n",
       "      <td>4.0</td>\n",
       "    </tr>\n",
       "    <tr>\n",
       "      <th>8521</th>\n",
       "      <td>reg</td>\n",
       "      <td>FDT50</td>\n",
       "      <td>Dairy</td>\n",
       "      <td>2018</td>\n",
       "      <td>OUT027</td>\n",
       "      <td>Tier 3</td>\n",
       "      <td>Medium</td>\n",
       "      <td>Supermarket Type3</td>\n",
       "      <td>0.107715</td>\n",
       "      <td>NaN</td>\n",
       "      <td>97.8752</td>\n",
       "      <td>4.0</td>\n",
       "    </tr>\n",
       "    <tr>\n",
       "      <th>8522</th>\n",
       "      <td>reg</td>\n",
       "      <td>FDM58</td>\n",
       "      <td>Snack Foods</td>\n",
       "      <td>2018</td>\n",
       "      <td>OUT027</td>\n",
       "      <td>Tier 3</td>\n",
       "      <td>Medium</td>\n",
       "      <td>Supermarket Type3</td>\n",
       "      <td>0.000000</td>\n",
       "      <td>NaN</td>\n",
       "      <td>112.2544</td>\n",
       "      <td>4.0</td>\n",
       "    </tr>\n",
       "  </tbody>\n",
       "</table>\n",
       "</div>"
      ],
      "text/plain": [
       "     ItemFatContent ItemIdentifier     ItemType  OutletEstablishmentYear  \\\n",
       "8519        low fat          FDN09  Snack Foods                     2018   \n",
       "8520        low fat          DRE13  Soft Drinks                     2018   \n",
       "8521            reg          FDT50        Dairy                     2018   \n",
       "8522            reg          FDM58  Snack Foods                     2018   \n",
       "\n",
       "     OutletIdentifier OutletLocationType OutletSize         OutletType  \\\n",
       "8519           OUT027             Tier 3     Medium  Supermarket Type3   \n",
       "8520           OUT027             Tier 3     Medium  Supermarket Type3   \n",
       "8521           OUT027             Tier 3     Medium  Supermarket Type3   \n",
       "8522           OUT027             Tier 3     Medium  Supermarket Type3   \n",
       "\n",
       "      ItemVisibility  ItemWeight     Sales  Rating  \n",
       "8519        0.034706         NaN  241.6828     4.0  \n",
       "8520        0.027571         NaN   86.6198     4.0  \n",
       "8521        0.107715         NaN   97.8752     4.0  \n",
       "8522        0.000000         NaN  112.2544     4.0  "
      ]
     },
     "execution_count": 5,
     "metadata": {},
     "output_type": "execute_result"
    }
   ],
   "source": [
    "df.tail(4)\n"
   ]
  },
  {
   "cell_type": "code",
   "execution_count": 6,
   "id": "dbadf50f-6e6b-4f23-ab93-7b882b63bf45",
   "metadata": {},
   "outputs": [
    {
     "data": {
      "text/plain": [
       "(8523, 12)"
      ]
     },
     "execution_count": 6,
     "metadata": {},
     "output_type": "execute_result"
    }
   ],
   "source": [
    "df.shape"
   ]
  },
  {
   "cell_type": "code",
   "execution_count": 7,
   "id": "7294a0e8-332a-4137-9d8e-c30958dcdc4b",
   "metadata": {},
   "outputs": [
    {
     "name": "stdout",
     "output_type": "stream",
     "text": [
      "Size of data: (8523, 12)\n"
     ]
    }
   ],
   "source": [
    "# size of data \n",
    "print(\"Size of data:\",df.shape)"
   ]
  },
  {
   "cell_type": "code",
   "execution_count": 8,
   "id": "e71f5a70-6def-4980-bf20-bcb9289a1384",
   "metadata": {},
   "outputs": [
    {
     "name": "stdout",
     "output_type": "stream",
     "text": [
      "columns in data : Index(['ItemFatContent', 'ItemIdentifier', 'ItemType',\n",
      "       'OutletEstablishmentYear', 'OutletIdentifier', 'OutletLocationType',\n",
      "       'OutletSize', 'OutletType', 'ItemVisibility', 'ItemWeight', 'Sales',\n",
      "       'Rating'],\n",
      "      dtype='object')\n"
     ]
    }
   ],
   "source": [
    "# To get columns in data \n",
    "print(\"columns in data :\",df.columns)"
   ]
  },
  {
   "cell_type": "code",
   "execution_count": 9,
   "id": "f66026b8-4aa6-4af4-895d-ea680b9fad91",
   "metadata": {},
   "outputs": [
    {
     "data": {
      "text/plain": [
       "ItemFatContent              object\n",
       "ItemIdentifier              object\n",
       "ItemType                    object\n",
       "OutletEstablishmentYear      int64\n",
       "OutletIdentifier            object\n",
       "OutletLocationType          object\n",
       "OutletSize                  object\n",
       "OutletType                  object\n",
       "ItemVisibility             float64\n",
       "ItemWeight                 float64\n",
       "Sales                      float64\n",
       "Rating                     float64\n",
       "dtype: object"
      ]
     },
     "execution_count": 9,
     "metadata": {},
     "output_type": "execute_result"
    }
   ],
   "source": [
    "# To get the datatype of the data \n",
    "df.dtypes"
   ]
  },
  {
   "cell_type": "code",
   "execution_count": 10,
   "id": "e1681fdd-cade-4ee5-9cbc-49f50c040b49",
   "metadata": {},
   "outputs": [
    {
     "name": "stdout",
     "output_type": "stream",
     "text": [
      "['Regular' 'Low Fat' 'low fat' 'LF' 'reg']\n"
     ]
    }
   ],
   "source": [
    "# to get unique values\n",
    "print(df[\"ItemFatContent\"].unique())"
   ]
  },
  {
   "cell_type": "code",
   "execution_count": 11,
   "id": "142716eb-a3ad-46e9-b3ce-95f2acedf0f9",
   "metadata": {},
   "outputs": [],
   "source": [
    "# to change the row name to get unique without different names \n",
    "df[\"ItemFatContent\"]=df[\"ItemFatContent\"].replace({\"LF\":\"Low Fat\",\n",
    "                                                   \"low fat\":\"Low Fat\",\n",
    "                                                   \"reg\":\"Regular\"})"
   ]
  },
  {
   "cell_type": "code",
   "execution_count": 12,
   "id": "6c84b8ee-1188-4273-a166-d3165573384a",
   "metadata": {},
   "outputs": [
    {
     "name": "stdout",
     "output_type": "stream",
     "text": [
      "['Regular' 'Low Fat']\n"
     ]
    }
   ],
   "source": [
    "print(df[\"ItemFatContent\"].unique())"
   ]
  },
  {
   "cell_type": "markdown",
   "id": "2ddf5d54-797e-44dd-9865-336130acf470",
   "metadata": {},
   "source": [
    "### **BUSINESS REQUIREMENTS**\n",
    "\n",
    "\n",
    "\n",
    "\n"
   ]
  },
  {
   "cell_type": "markdown",
   "id": "4fdc0fef-b53c-4cc2-a4a0-c3790f05806b",
   "metadata": {},
   "source": [
    "\n",
    "### **KPI's REQUIREMENTS**"
   ]
  },
  {
   "cell_type": "code",
   "execution_count": 18,
   "id": "e086687a-c860-4e71-b847-44105ef935f7",
   "metadata": {},
   "outputs": [
    {
     "name": "stdout",
     "output_type": "stream",
     "text": [
      "Total Sales :$1,201,681.5\n",
      "Average Sales :$141.0\n",
      "Average rating:4.0\n",
      "no_of_sales :$8,523.0\n"
     ]
    }
   ],
   "source": [
    "# Total sales \n",
    "total_sales=df[\"Sales\"].sum()\n",
    "\n",
    "# average sales \n",
    "avg_sales=df[\"Sales\"].mean()\n",
    "\n",
    "# Average Rating\n",
    "avg_rating=df[\"Rating\"].mean()\n",
    "\n",
    "# Number of item sold\n",
    "no_of_sales=df[\"Sales\"].count()\n",
    "\n",
    "\n",
    "#display\n",
    "\n",
    "print(f\"Total Sales :${total_sales:,.1f}\")\n",
    "print(f\"Average Sales :${avg_sales:,.1f}\")\n",
    "print(f\"Average rating:{avg_rating:,.1f}\")\n",
    "print(f\"no_of_sales :${no_of_sales:,.1f}\")"
   ]
  },
  {
   "cell_type": "markdown",
   "id": "a626ccb0-79b4-409c-8904-16870db24e88",
   "metadata": {},
   "source": [
    "## **CHART REQUIREMENTS**"
   ]
  },
  {
   "cell_type": "markdown",
   "id": "a3e18eda-b4e8-4de2-8ead-c4f4134a1308",
   "metadata": {},
   "source": [
    "### **Total Sales by Fat Content**"
   ]
  },
  {
   "cell_type": "code",
   "execution_count": 23,
   "id": "88b21306-afcd-4920-a920-9538ab9d03ce",
   "metadata": {},
   "outputs": [],
   "source": [
    "sales_by_fat=df.groupby('ItemFatContent')[\"Sales\"].sum()\n"
   ]
  },
  {
   "cell_type": "code",
   "execution_count": 25,
   "id": "236feebf-f5b7-48f3-932a-43cdf7156c56",
   "metadata": {},
   "outputs": [
    {
     "data": {
      "image/png": "[encoded data removed]",
      "text/plain": [
       "<Figure size 640x480 with 1 Axes>"
      ]
     },
     "metadata": {},
     "output_type": "display_data"
    }
   ],
   "source": [
    "plt.pie(sales_by_fat,labels=sales_by_fat.index,\n",
    "        autopct=\"%.1f%%\",\n",
    "        startangle=90)\n",
    "plt.title(\"Sales By Fat Content\")\n",
    "\n",
    "plt.axis=(\"equal\")\n",
    "plt.show()"
   ]
  },
  {
   "cell_type": "code",
   "execution_count": null,
   "id": "a2f5973c-3482-403f-8fe4-728960f0306a",
   "metadata": {},
   "outputs": [],
   "source": []
  }
 ],
 "metadata": {
  "kernelspec": {
   "display_name": "Python 3 (ipykernel)",
   "language": "python",
   "name": "python3"
  },
  "language_info": {
   "codemirror_mode": {
    "name": "ipython",
    "version": 3
   },
   "file_extension": ".py",
   "mimetype": "text/x-python",
   "name": "python",
   "nbconvert_exporter": "python",
   "pygments_lexer": "ipython3",
   "version": "3.12.2"
  }
 },
 "nbformat": 4,
 "nbformat_minor": 5
}
